{
 "cells": [
  {
   "cell_type": "code",
   "outputs": [
    {
     "name": "stdout",
     "output_type": "stream",
     "text": [
      "The autoreload extension is already loaded. To reload it, use:\n",
      "  %reload_ext autoreload\n"
     ]
    }
   ],
   "source": [
    "%load_ext autoreload\n",
    "%autoreload 3\n",
    "%reload_ext autoreload\n",
    "from IPython.core import ultratb\n",
    "\n",
    "ultratb.VerboseTB._tb_highlight = \"bg:ansired\"\n",
    "\n",
    "from common import *"
   ],
   "metadata": {
    "collapsed": false,
    "ExecuteTime": {
     "end_time": "2024-02-16T19:19:49.589986Z",
     "start_time": "2024-02-16T19:19:49.551655Z"
    }
   },
   "id": "f0a5442c79e2e42d",
   "execution_count": 5
  },
  {
   "cell_type": "code",
   "execution_count": 6,
   "id": "initial_id",
   "metadata": {
    "collapsed": true,
    "ExecuteTime": {
     "end_time": "2024-02-16T19:25:28.629200Z",
     "start_time": "2024-02-16T19:25:21.018126Z"
    }
   },
   "outputs": [
    {
     "data": {
      "text/plain": "                                                  path  \\\n0    /home/cecilvega/Public/MEL/TK875/Data_875_ener...   \n1    /home/cecilvega/Public/MEL/TK851/851_psc_20220...   \n2    /home/cecilvega/Public/MEL/TK320/2022-09-02 TK...   \n3    /home/cecilvega/Public/MEL/TK863/863_dsc_20221...   \n4        /home/cecilvega/Public/MEL/TK882/Data_882.zip   \n..                                                 ...   \n662  /home/cecilvega/Public/MEL/TK867/2023-12-14 TK...   \n663  /home/cecilvega/Public/MEL/TK867/2022-08-22 TK...   \n664  /home/cecilvega/Public/MEL/TK867/2023-06-24 TK...   \n665  /home/cecilvega/Public/MEL/TK867/2023-10-19 TK...   \n666  /home/cecilvega/Public/MEL/TK867/2022-05-28 TK...   \n\n                        stem  \\\n0        Data_875_enero 2023   \n1    851_psc_20220829-095306   \n2           2022-09-02 TK320   \n3    863_dsc_20221231-102525   \n4                   Data_882   \n..                       ...   \n662               KMS_Export   \n663               KMS_Export   \n664               KMS_Export   \n665               KMS_Export   \n666               KMS_Export   \n\n                                              dir_path  \\\n0    /home/cecilvega/Public/MEL/TK875/Data_875_ener...   \n1    /home/cecilvega/Public/MEL/TK851/851_psc_20220...   \n2    /home/cecilvega/Public/MEL/TK320/2022-09-02 TK320   \n3    /home/cecilvega/Public/MEL/TK863/863_dsc_20221...   \n4            /home/cecilvega/Public/MEL/TK882/Data_882   \n..                                                 ...   \n662  /home/cecilvega/Public/MEL/TK867/2023-12-14 TK...   \n663  /home/cecilvega/Public/MEL/TK867/2022-08-22 TK...   \n664  /home/cecilvega/Public/MEL/TK867/2023-06-24 TK...   \n665  /home/cecilvega/Public/MEL/TK867/2023-10-19 TK...   \n666  /home/cecilvega/Public/MEL/TK867/2022-05-28 TK...   \n\n                    dir_stem  \\\n0        Data_875_enero 2023   \n1    851_psc_20220829-095306   \n2           2022-09-02 TK320   \n3    863_dsc_20221231-102525   \n4                   Data_882   \n..                       ...   \n662                      NaN   \n663                      NaN   \n664                      NaN   \n665                      NaN   \n666                      NaN   \n\n                                       parent_dir_path  \n0                     /home/cecilvega/Public/MEL/TK875  \n1                     /home/cecilvega/Public/MEL/TK851  \n2                     /home/cecilvega/Public/MEL/TK320  \n3                     /home/cecilvega/Public/MEL/TK863  \n4                     /home/cecilvega/Public/MEL/TK882  \n..                                                 ...  \n662  /home/cecilvega/Public/MEL/TK867/2023-12-14 TK...  \n663  /home/cecilvega/Public/MEL/TK867/2022-08-22 TK...  \n664  /home/cecilvega/Public/MEL/TK867/2023-06-24 TK...  \n665  /home/cecilvega/Public/MEL/TK867/2023-10-19 TK...  \n666  /home/cecilvega/Public/MEL/TK867/2022-05-28 TK...  \n\n[667 rows x 5 columns]",
      "text/html": "<div>\n<style scoped>\n    .dataframe tbody tr th:only-of-type {\n        vertical-align: middle;\n    }\n\n    .dataframe tbody tr th {\n        vertical-align: top;\n    }\n\n    .dataframe thead th {\n        text-align: right;\n    }\n</style>\n<table border=\"1\" class=\"dataframe\">\n  <thead>\n    <tr style=\"text-align: right;\">\n      <th></th>\n      <th>path</th>\n      <th>stem</th>\n      <th>dir_path</th>\n      <th>dir_stem</th>\n      <th>parent_dir_path</th>\n    </tr>\n  </thead>\n  <tbody>\n    <tr>\n      <th>0</th>\n      <td>/home/cecilvega/Public/MEL/TK875/Data_875_ener...</td>\n      <td>Data_875_enero 2023</td>\n      <td>/home/cecilvega/Public/MEL/TK875/Data_875_ener...</td>\n      <td>Data_875_enero 2023</td>\n      <td>/home/cecilvega/Public/MEL/TK875</td>\n    </tr>\n    <tr>\n      <th>1</th>\n      <td>/home/cecilvega/Public/MEL/TK851/851_psc_20220...</td>\n      <td>851_psc_20220829-095306</td>\n      <td>/home/cecilvega/Public/MEL/TK851/851_psc_20220...</td>\n      <td>851_psc_20220829-095306</td>\n      <td>/home/cecilvega/Public/MEL/TK851</td>\n    </tr>\n    <tr>\n      <th>2</th>\n      <td>/home/cecilvega/Public/MEL/TK320/2022-09-02 TK...</td>\n      <td>2022-09-02 TK320</td>\n      <td>/home/cecilvega/Public/MEL/TK320/2022-09-02 TK320</td>\n      <td>2022-09-02 TK320</td>\n      <td>/home/cecilvega/Public/MEL/TK320</td>\n    </tr>\n    <tr>\n      <th>3</th>\n      <td>/home/cecilvega/Public/MEL/TK863/863_dsc_20221...</td>\n      <td>863_dsc_20221231-102525</td>\n      <td>/home/cecilvega/Public/MEL/TK863/863_dsc_20221...</td>\n      <td>863_dsc_20221231-102525</td>\n      <td>/home/cecilvega/Public/MEL/TK863</td>\n    </tr>\n    <tr>\n      <th>4</th>\n      <td>/home/cecilvega/Public/MEL/TK882/Data_882.zip</td>\n      <td>Data_882</td>\n      <td>/home/cecilvega/Public/MEL/TK882/Data_882</td>\n      <td>Data_882</td>\n      <td>/home/cecilvega/Public/MEL/TK882</td>\n    </tr>\n    <tr>\n      <th>...</th>\n      <td>...</td>\n      <td>...</td>\n      <td>...</td>\n      <td>...</td>\n      <td>...</td>\n    </tr>\n    <tr>\n      <th>662</th>\n      <td>/home/cecilvega/Public/MEL/TK867/2023-12-14 TK...</td>\n      <td>KMS_Export</td>\n      <td>/home/cecilvega/Public/MEL/TK867/2023-12-14 TK...</td>\n      <td>NaN</td>\n      <td>/home/cecilvega/Public/MEL/TK867/2023-12-14 TK...</td>\n    </tr>\n    <tr>\n      <th>663</th>\n      <td>/home/cecilvega/Public/MEL/TK867/2022-08-22 TK...</td>\n      <td>KMS_Export</td>\n      <td>/home/cecilvega/Public/MEL/TK867/2022-08-22 TK...</td>\n      <td>NaN</td>\n      <td>/home/cecilvega/Public/MEL/TK867/2022-08-22 TK...</td>\n    </tr>\n    <tr>\n      <th>664</th>\n      <td>/home/cecilvega/Public/MEL/TK867/2023-06-24 TK...</td>\n      <td>KMS_Export</td>\n      <td>/home/cecilvega/Public/MEL/TK867/2023-06-24 TK...</td>\n      <td>NaN</td>\n      <td>/home/cecilvega/Public/MEL/TK867/2023-06-24 TK...</td>\n    </tr>\n    <tr>\n      <th>665</th>\n      <td>/home/cecilvega/Public/MEL/TK867/2023-10-19 TK...</td>\n      <td>KMS_Export</td>\n      <td>/home/cecilvega/Public/MEL/TK867/2023-10-19 TK...</td>\n      <td>NaN</td>\n      <td>/home/cecilvega/Public/MEL/TK867/2023-10-19 TK...</td>\n    </tr>\n    <tr>\n      <th>666</th>\n      <td>/home/cecilvega/Public/MEL/TK867/2022-05-28 TK...</td>\n      <td>KMS_Export</td>\n      <td>/home/cecilvega/Public/MEL/TK867/2022-05-28 TK...</td>\n      <td>NaN</td>\n      <td>/home/cecilvega/Public/MEL/TK867/2022-05-28 TK...</td>\n    </tr>\n  </tbody>\n</table>\n<p>667 rows × 5 columns</p>\n</div>"
     },
     "execution_count": 6,
     "metadata": {},
     "output_type": "execute_result"
    }
   ],
   "source": [
    "raw_data_dir_path = Path(\"/home/cecilvega/Public/MEL\")\n",
    "dirs = [d for d in raw_data_dir_path.rglob(\"*\") if d.is_dir()]\n",
    "\n",
    "files = [f for f in raw_data_dir_path.rglob(\"*\") if ((f.is_file()) & (f.suffix == \".zip\"))]\n",
    "\n",
    "df_dirs = pd.DataFrame(dirs, columns=[\"dir_path\"]).assign(dir_stem=lambda x: x[\"dir_path\"].map(lambda x: x.stem))\n",
    "df_tar = pd.DataFrame(files, columns=[\"path\"]).assign(\n",
    "    stem=lambda x: x[\"path\"].map(lambda x: x.stem), dir_path=lambda x: x[\"path\"].map(lambda x: x.parent / Path(x.stem))\n",
    ")\n",
    "df_tar = df_tar.merge(df_dirs, how=\"left\", on=\"dir_path\")\n",
    "df_tar = df_tar.assign(parent_dir_path=df_tar[\"path\"].map(lambda x: x.parent))\n",
    "\n",
    "df_tar"
   ]
  },
  {
   "cell_type": "code",
   "outputs": [],
   "source": [],
   "metadata": {
    "collapsed": false
   },
   "id": "82a48937506b64b5"
  },
  {
   "cell_type": "code",
   "outputs": [],
   "source": [
    "files_dir = Path(\"/home/cecilvega/Public/MEL\")\n",
    "files = [\n",
    "    str(f)\n",
    "    for f in files_dir.rglob(\"*\")\n",
    "    if (\n",
    "        (f.is_file())\n",
    "        & (\"~lock\" not in f.name)\n",
    "        & (f.suffix in [\".csv\", \".db\"])\n",
    "        & (\n",
    "            (\n",
    "                any(\n",
    "                    s in f.stem\n",
    "                    for s in [\n",
    "                        \"LR\",\n",
    "                        \"egdata\",\n",
    "                        \"haulcycle\",\n",
    "                        \"trqswdata\",\n",
    "                        \"tripdata\",\n",
    "                        # \"Haul\"\n",
    "                        # \"dp_\",\n",
    "                        # \"fault0\",\n",
    "                    ]\n",
    "                )\n",
    "            )\n",
    "            | (f.stem == \"events\")\n",
    "            | ((\"events_en\" in f.stem) & (\"engr\" not in f.stem))\n",
    "            | (f.name == \"Export_Haul.db\")\n",
    "            | ((\"MINE\" in f.stem) & (any(s in f.stem for s in [\"SERIAL_\", \"PROFILE_\", \"COUNTER_\"])))\n",
    "        )\n",
    "    )\n",
    "]\n",
    "files = pl.DataFrame({\"raw_path\": files}).with_columns(\n",
    "    file_size=pl.col(\"raw_path\").apply(lambda x: Path(x).stat().st_size)\n",
    ")\n",
    "\n",
    "asset_key_map = {\"plm\": {\"stem_pattern\": \"Haul\"}}"
   ],
   "metadata": {
    "collapsed": false
   },
   "id": "5859867807644043"
  }
 ],
 "metadata": {
  "kernelspec": {
   "display_name": "Python 3",
   "language": "python",
   "name": "python3"
  },
  "language_info": {
   "codemirror_mode": {
    "name": "ipython",
    "version": 2
   },
   "file_extension": ".py",
   "mimetype": "text/x-python",
   "name": "python",
   "nbconvert_exporter": "python",
   "pygments_lexer": "ipython2",
   "version": "2.7.6"
  }
 },
 "nbformat": 4,
 "nbformat_minor": 5
}
